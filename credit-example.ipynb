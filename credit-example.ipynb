{
 "cells": [
  {
   "cell_type": "code",
   "execution_count": 2,
   "metadata": {},
   "outputs": [
    {
     "name": "stdout",
     "output_type": "stream",
     "text": [
      "Looking in indexes: https://test.pypi.org/simple/, https://pypi.org/simple\n",
      "Collecting pureml-evaluate\n",
      "  Using cached https://test-files.pythonhosted.org/packages/6a/ad/c405efd5d631c742e61f676d95404356e5cd7c6549938112305290f720f2/pureml_evaluate-0.0.3.2-py3-none-any.whl (152 kB)\n",
      "Collecting plotly<6.0.0,>=5.15.0\n",
      "  Using cached plotly-5.17.0-py2.py3-none-any.whl (15.6 MB)\n",
      "Collecting joblib<2.0.0,>=1.2.0\n",
      "  Using cached joblib-1.3.2-py3-none-any.whl (302 kB)\n",
      "Collecting scipy<2.0.0,>=1.9.1\n",
      "  Using cached scipy-1.11.3-cp310-cp310-manylinux_2_17_x86_64.manylinux2014_x86_64.whl (36.4 MB)\n",
      "Collecting seaborn<0.13.0,>=0.12.2\n",
      "  Using cached seaborn-0.12.2-py3-none-any.whl (293 kB)\n",
      "Collecting PyPDF2<4.0.0,>=3.0.1\n",
      "  Using cached pypdf2-3.0.1-py3-none-any.whl (232 kB)\n",
      "Collecting daisy<2.0,>=1.0\n",
      "  Using cached daisy-1.0-py3-none-any.whl (45 kB)\n",
      "Collecting pandas<2.0.0,>=1.4.3\n",
      "  Using cached pandas-1.5.3-cp310-cp310-manylinux_2_17_x86_64.manylinux2014_x86_64.whl (12.1 MB)\n",
      "Collecting reportlab<5.0.0,>=4.0.4\n",
      "  Using cached reportlab-4.0.6-py3-none-any.whl (1.9 MB)\n",
      "Collecting scikit-learn<2.0.0,>=1.2.2\n",
      "  Using cached scikit_learn-1.3.1-cp310-cp310-manylinux_2_17_x86_64.manylinux2014_x86_64.whl (10.8 MB)\n",
      "Collecting fairlearn<0.9.0,>=0.8.0\n",
      "  Using cached fairlearn-0.8.0-py3-none-any.whl (235 kB)\n",
      "Collecting pydantic<2.0.0,>=1.9.1\n",
      "  Using cached pydantic-1.10.13-cp310-cp310-manylinux_2_17_x86_64.manylinux2014_x86_64.whl (3.1 MB)\n",
      "Collecting funlib.math\n",
      "  Using cached funlib.math-0.1-py3-none-any.whl (4.4 kB)\n",
      "Collecting funlib.geometry\n",
      "  Using cached funlib.geometry-0.2-py3-none-any.whl (7.4 kB)\n",
      "Collecting numpy\n",
      "  Using cached numpy-1.26.1-cp310-cp310-manylinux_2_17_x86_64.manylinux2014_x86_64.whl (18.2 MB)\n",
      "Requirement already satisfied: tornado>=5 in ./test-pypi2/lib/python3.10/site-packages (from daisy<2.0,>=1.0->pureml-evaluate) (6.3.3)\n",
      "Collecting tqdm\n",
      "  Using cached tqdm-4.66.1-py3-none-any.whl (78 kB)\n",
      "Requirement already satisfied: python-dateutil>=2.8.1 in ./test-pypi2/lib/python3.10/site-packages (from pandas<2.0.0,>=1.4.3->pureml-evaluate) (2.8.2)\n",
      "Collecting pytz>=2020.1\n",
      "  Using cached pytz-2023.3.post1-py2.py3-none-any.whl (502 kB)\n",
      "Requirement already satisfied: packaging in ./test-pypi2/lib/python3.10/site-packages (from plotly<6.0.0,>=5.15.0->pureml-evaluate) (23.2)\n",
      "Collecting tenacity>=6.2.0\n",
      "  Using cached tenacity-8.2.3-py3-none-any.whl (24 kB)\n",
      "Collecting typing-extensions>=4.2.0\n",
      "  Using cached typing_extensions-4.8.0-py3-none-any.whl (31 kB)\n",
      "Collecting pillow>=9.0.0\n",
      "  Using cached Pillow-10.1.0-cp310-cp310-manylinux_2_28_x86_64.whl (3.6 MB)\n",
      "Collecting threadpoolctl>=2.0.0\n",
      "  Using cached threadpoolctl-3.2.0-py3-none-any.whl (15 kB)\n",
      "Collecting matplotlib!=3.6.1,>=3.1\n",
      "  Using cached matplotlib-3.8.0-cp310-cp310-manylinux_2_17_x86_64.manylinux2014_x86_64.whl (11.6 MB)\n",
      "Collecting cycler>=0.10\n",
      "  Using cached cycler-0.12.1-py3-none-any.whl (8.3 kB)\n",
      "Collecting kiwisolver>=1.0.1\n",
      "  Using cached kiwisolver-1.4.5-cp310-cp310-manylinux_2_12_x86_64.manylinux2010_x86_64.whl (1.6 MB)\n",
      "Collecting pyparsing>=2.3.1\n",
      "  Using cached pyparsing-3.1.1-py3-none-any.whl (103 kB)\n",
      "Collecting contourpy>=1.0.1\n",
      "  Using cached contourpy-1.1.1-cp310-cp310-manylinux_2_17_x86_64.manylinux2014_x86_64.whl (301 kB)\n",
      "Collecting fonttools>=4.22.0\n",
      "  Using cached fonttools-4.43.1-cp310-cp310-manylinux_2_17_x86_64.manylinux2014_x86_64.whl (4.5 MB)\n",
      "Requirement already satisfied: six>=1.5 in ./test-pypi2/lib/python3.10/site-packages (from python-dateutil>=2.8.1->pandas<2.0.0,>=1.4.3->pureml-evaluate) (1.16.0)\n",
      "Installing collected packages: pytz, funlib.geometry, typing-extensions, tqdm, threadpoolctl, tenacity, PyPDF2, pyparsing, pillow, numpy, kiwisolver, joblib, fonttools, cycler, scipy, reportlab, pydantic, plotly, pandas, funlib.math, contourpy, scikit-learn, matplotlib, daisy, seaborn, fairlearn, pureml-evaluate\n",
      "Successfully installed PyPDF2-3.0.1 contourpy-1.1.1 cycler-0.12.1 daisy-1.0 fairlearn-0.8.0 fonttools-4.43.1 funlib.geometry-0.2 funlib.math-0.1 joblib-1.3.2 kiwisolver-1.4.5 matplotlib-3.8.0 numpy-1.26.1 pandas-1.5.3 pillow-10.1.0 plotly-5.17.0 pureml-evaluate-0.0.3.2 pydantic-1.10.13 pyparsing-3.1.1 pytz-2023.3.post1 reportlab-4.0.6 scikit-learn-1.3.1 scipy-1.11.3 seaborn-0.12.2 tenacity-8.2.3 threadpoolctl-3.2.0 tqdm-4.66.1 typing-extensions-4.8.0\n",
      "Note: you may need to restart the kernel to use updated packages.\n",
      "Looking in indexes: https://test.pypi.org/simple/, https://pypi.org/simple\n",
      "Collecting pureml\n",
      "  Using cached https://test-files.pythonhosted.org/packages/17/27/4350799369d0065e3594c4df8c54caa23f777eb358723628a8d90d09632d/pureml-0.4.1.1-py3-none-any.whl (96 kB)\n",
      "Collecting requests<3.0.0,>=2.28.1\n",
      "  Using cached requests-2.31.0-py3-none-any.whl (62 kB)\n",
      "Collecting pyngrok<6.0.0,>=5.2.1\n",
      "  Using cached pyngrok-5.2.3-py3-none-any.whl\n",
      "Requirement already satisfied: joblib<2.0.0,>=1.2.0 in ./test-pypi2/lib/python3.10/site-packages (from pureml) (1.3.2)\n",
      "Collecting ipapi<2.0.0,>=1.0.4\n",
      "  Using cached ipapi-1.0.4-py3-none-any.whl\n",
      "Requirement already satisfied: pydantic<2.0.0,>=1.9.1 in ./test-pypi2/lib/python3.10/site-packages (from pureml) (1.10.13)\n",
      "Collecting docker<7.0.0,>=6.0.1\n",
      "  Using cached docker-6.1.3-py3-none-any.whl (148 kB)\n",
      "Requirement already satisfied: pandas<2.0.0,>=1.4.3 in ./test-pypi2/lib/python3.10/site-packages (from pureml) (1.5.3)\n",
      "Requirement already satisfied: scikit-learn<2.0.0,>=1.2.2 in ./test-pypi2/lib/python3.10/site-packages (from pureml) (1.3.1)\n",
      "Requirement already satisfied: matplotlib<4.0.0,>=3.6.2 in ./test-pypi2/lib/python3.10/site-packages (from pureml) (3.8.0)\n",
      "Collecting PyYAML<7.0,>=6.0\n",
      "  Using cached PyYAML-6.0.1-cp310-cp310-manylinux_2_17_x86_64.manylinux2014_x86_64.whl (705 kB)\n",
      "Collecting PyJWT<3.0.0,>=2.4.0\n",
      "  Using cached PyJWT-2.8.0-py3-none-any.whl (22 kB)\n",
      "Requirement already satisfied: pureml_evaluate<0.0.4.0,>=0.0.3.1 in ./test-pypi2/lib/python3.10/site-packages (from pureml) (0.0.3.2)\n",
      "Requirement already satisfied: numpy<2.0.0,>=1.23.1 in ./test-pypi2/lib/python3.10/site-packages (from pureml) (1.26.1)\n",
      "Collecting pyarrow<9.0.0,>=8.0.0\n",
      "  Using cached pyarrow-8.0.0-cp310-cp310-manylinux_2_17_x86_64.manylinux2014_x86_64.whl (29.4 MB)\n",
      "Collecting python-dotenv<0.21.0,>=0.20.0\n",
      "  Using cached python_dotenv-0.20.0-py3-none-any.whl (17 kB)\n",
      "Collecting fastapi<0.89.0,>=0.88.0\n",
      "  Using cached fastapi-0.88.0-py3-none-any.whl (55 kB)\n",
      "Collecting uvicorn<0.21.0,>=0.20.0\n",
      "  Using cached uvicorn-0.20.0-py3-none-any.whl (56 kB)\n",
      "Collecting typer[all]<0.7.0,>=0.6.1\n",
      "  Using cached typer-0.6.1-py3-none-any.whl (38 kB)\n",
      "Collecting Pillow<10.0.0,>=9.3.0\n",
      "  Using cached Pillow-9.5.0-cp310-cp310-manylinux_2_28_x86_64.whl (3.4 MB)\n",
      "Requirement already satisfied: nest-asyncio<2.0.0,>=1.5.6 in ./test-pypi2/lib/python3.10/site-packages (from pureml) (1.5.8)\n",
      "Collecting python-multipart<0.0.6,>=0.0.5\n",
      "  Using cached python_multipart-0.0.5-py3-none-any.whl\n",
      "Collecting boto3<2.0.0,>=1.26.114\n",
      "  Using cached boto3-1.28.63-py3-none-any.whl (135 kB)\n",
      "Requirement already satisfied: plotly<6.0.0,>=5.15.0 in ./test-pypi2/lib/python3.10/site-packages (from pureml) (5.17.0)\n",
      "Collecting jmespath<2.0.0,>=0.7.1\n",
      "  Using cached jmespath-1.0.1-py3-none-any.whl (20 kB)\n",
      "Collecting botocore<1.32.0,>=1.31.63\n",
      "  Using cached botocore-1.31.63-py3-none-any.whl (11.3 MB)\n",
      "Collecting s3transfer<0.8.0,>=0.7.0\n",
      "  Using cached s3transfer-0.7.0-py3-none-any.whl (79 kB)\n",
      "Requirement already satisfied: packaging>=14.0 in ./test-pypi2/lib/python3.10/site-packages (from docker<7.0.0,>=6.0.1->pureml) (23.2)\n",
      "Collecting urllib3>=1.26.0\n",
      "  Using cached urllib3-2.0.6-py3-none-any.whl (123 kB)\n",
      "Collecting websocket-client>=0.32.0\n",
      "  Using cached websocket_client-1.6.4-py3-none-any.whl (57 kB)\n",
      "Collecting starlette==0.22.0\n",
      "  Using cached starlette-0.22.0-py3-none-any.whl (64 kB)\n",
      "Collecting anyio<5,>=3.4.0\n",
      "  Using cached anyio-4.0.0-py3-none-any.whl (83 kB)\n",
      "Requirement already satisfied: kiwisolver>=1.0.1 in ./test-pypi2/lib/python3.10/site-packages (from matplotlib<4.0.0,>=3.6.2->pureml) (1.4.5)\n",
      "Requirement already satisfied: python-dateutil>=2.7 in ./test-pypi2/lib/python3.10/site-packages (from matplotlib<4.0.0,>=3.6.2->pureml) (2.8.2)\n",
      "Requirement already satisfied: cycler>=0.10 in ./test-pypi2/lib/python3.10/site-packages (from matplotlib<4.0.0,>=3.6.2->pureml) (0.12.1)\n",
      "Requirement already satisfied: pyparsing>=2.3.1 in ./test-pypi2/lib/python3.10/site-packages (from matplotlib<4.0.0,>=3.6.2->pureml) (3.1.1)\n",
      "Requirement already satisfied: fonttools>=4.22.0 in ./test-pypi2/lib/python3.10/site-packages (from matplotlib<4.0.0,>=3.6.2->pureml) (4.43.1)\n",
      "Requirement already satisfied: contourpy>=1.0.1 in ./test-pypi2/lib/python3.10/site-packages (from matplotlib<4.0.0,>=3.6.2->pureml) (1.1.1)\n",
      "Requirement already satisfied: pytz>=2020.1 in ./test-pypi2/lib/python3.10/site-packages (from pandas<2.0.0,>=1.4.3->pureml) (2023.3.post1)\n",
      "Requirement already satisfied: tenacity>=6.2.0 in ./test-pypi2/lib/python3.10/site-packages (from plotly<6.0.0,>=5.15.0->pureml) (8.2.3)\n",
      "Requirement already satisfied: fairlearn<0.9.0,>=0.8.0 in ./test-pypi2/lib/python3.10/site-packages (from pureml_evaluate<0.0.4.0,>=0.0.3.1->pureml) (0.8.0)\n",
      "Requirement already satisfied: reportlab<5.0.0,>=4.0.4 in ./test-pypi2/lib/python3.10/site-packages (from pureml_evaluate<0.0.4.0,>=0.0.3.1->pureml) (4.0.6)\n",
      "Requirement already satisfied: scipy<2.0.0,>=1.9.1 in ./test-pypi2/lib/python3.10/site-packages (from pureml_evaluate<0.0.4.0,>=0.0.3.1->pureml) (1.11.3)\n",
      "Requirement already satisfied: daisy<2.0,>=1.0 in ./test-pypi2/lib/python3.10/site-packages (from pureml_evaluate<0.0.4.0,>=0.0.3.1->pureml) (1.0)\n",
      "Requirement already satisfied: seaborn<0.13.0,>=0.12.2 in ./test-pypi2/lib/python3.10/site-packages (from pureml_evaluate<0.0.4.0,>=0.0.3.1->pureml) (0.12.2)\n",
      "Requirement already satisfied: PyPDF2<4.0.0,>=3.0.1 in ./test-pypi2/lib/python3.10/site-packages (from pureml_evaluate<0.0.4.0,>=0.0.3.1->pureml) (3.0.1)\n",
      "Requirement already satisfied: typing-extensions>=4.2.0 in ./test-pypi2/lib/python3.10/site-packages (from pydantic<2.0.0,>=1.9.1->pureml) (4.8.0)\n",
      "Requirement already satisfied: six>=1.4.0 in ./test-pypi2/lib/python3.10/site-packages (from python-multipart<0.0.6,>=0.0.5->pureml) (1.16.0)\n",
      "Collecting idna<4,>=2.5\n",
      "  Using cached idna-3.4-py3-none-any.whl (61 kB)\n",
      "Collecting certifi>=2017.4.17\n",
      "  Using cached certifi-2023.7.22-py3-none-any.whl (158 kB)\n",
      "Collecting charset-normalizer<4,>=2\n",
      "  Using cached charset_normalizer-3.3.0-cp310-cp310-manylinux_2_17_x86_64.manylinux2014_x86_64.whl (138 kB)\n",
      "Requirement already satisfied: threadpoolctl>=2.0.0 in ./test-pypi2/lib/python3.10/site-packages (from scikit-learn<2.0.0,>=1.2.2->pureml) (3.2.0)\n",
      "Collecting click<9.0.0,>=7.1.1\n",
      "  Using cached click-8.1.7-py3-none-any.whl (97 kB)\n",
      "Collecting shellingham<2.0.0,>=1.3.0\n",
      "  Using cached shellingham-1.5.3-py2.py3-none-any.whl (9.7 kB)\n",
      "Collecting colorama<0.5.0,>=0.4.3\n",
      "  Using cached colorama-0.4.6-py2.py3-none-any.whl (25 kB)\n",
      "Collecting rich<13.0.0,>=10.11.0\n",
      "  Using cached rich-12.6.0-py3-none-any.whl (237 kB)\n",
      "Collecting h11>=0.8\n",
      "  Using cached h11-0.14.0-py3-none-any.whl (58 kB)\n",
      "Requirement already satisfied: funlib.math in ./test-pypi2/lib/python3.10/site-packages (from daisy<2.0,>=1.0->pureml_evaluate<0.0.4.0,>=0.0.3.1->pureml) (0.1)\n",
      "Requirement already satisfied: tornado>=5 in ./test-pypi2/lib/python3.10/site-packages (from daisy<2.0,>=1.0->pureml_evaluate<0.0.4.0,>=0.0.3.1->pureml) (6.3.3)\n",
      "Requirement already satisfied: funlib.geometry in ./test-pypi2/lib/python3.10/site-packages (from daisy<2.0,>=1.0->pureml_evaluate<0.0.4.0,>=0.0.3.1->pureml) (0.2)\n",
      "Requirement already satisfied: tqdm in ./test-pypi2/lib/python3.10/site-packages (from daisy<2.0,>=1.0->pureml_evaluate<0.0.4.0,>=0.0.3.1->pureml) (4.66.1)\n",
      "Collecting commonmark<0.10.0,>=0.9.0\n",
      "  Using cached commonmark-0.9.1-py2.py3-none-any.whl (51 kB)\n",
      "Requirement already satisfied: pygments<3.0.0,>=2.6.0 in ./test-pypi2/lib/python3.10/site-packages (from rich<13.0.0,>=10.11.0->typer[all]<0.7.0,>=0.6.1->pureml) (2.16.1)\n",
      "Collecting sniffio>=1.1\n",
      "  Using cached sniffio-1.3.0-py3-none-any.whl (10 kB)\n",
      "Requirement already satisfied: exceptiongroup>=1.0.2 in ./test-pypi2/lib/python3.10/site-packages (from anyio<5,>=3.4.0->starlette==0.22.0->fastapi<0.89.0,>=0.88.0->pureml) (1.1.3)\n",
      "Installing collected packages: commonmark, websocket-client, urllib3, sniffio, shellingham, rich, PyYAML, python-multipart, python-dotenv, PyJWT, pyarrow, Pillow, jmespath, idna, h11, colorama, click, charset-normalizer, certifi, uvicorn, typer, requests, pyngrok, botocore, anyio, starlette, s3transfer, ipapi, docker, fastapi, boto3, pureml\n",
      "  Attempting uninstall: Pillow\n",
      "    Found existing installation: Pillow 10.1.0\n",
      "    Uninstalling Pillow-10.1.0:\n",
      "      Successfully uninstalled Pillow-10.1.0\n",
      "Successfully installed Pillow-9.5.0 PyJWT-2.8.0 PyYAML-6.0.1 anyio-4.0.0 boto3-1.28.63 botocore-1.31.63 certifi-2023.7.22 charset-normalizer-3.3.0 click-8.1.7 colorama-0.4.6 commonmark-0.9.1 docker-6.1.3 fastapi-0.88.0 h11-0.14.0 idna-3.4 ipapi-1.0.4 jmespath-1.0.1 pureml-0.4.1.1 pyarrow-8.0.0 pyngrok-5.2.3 python-dotenv-0.20.0 python-multipart-0.0.5 requests-2.31.0 rich-12.6.0 s3transfer-0.7.0 shellingham-1.5.3 sniffio-1.3.0 starlette-0.22.0 typer-0.6.1 urllib3-2.0.6 uvicorn-0.20.0 websocket-client-1.6.4\n",
      "Note: you may need to restart the kernel to use updated packages.\n",
      "Looking in indexes: https://test.pypi.org/simple/, https://pypi.org/simple\n",
      "Collecting pureml-policy\n",
      "  Using cached https://test-files.pythonhosted.org/packages/73/66/0079abeceb007d5243d5f3d0fb6642437c73b205c957e6a8880f9662bc56/pureml_policy-0.0.1.1-py3-none-any.whl (3.5 kB)\n",
      "Requirement already satisfied: fairlearn<0.9.0,>=0.8.0 in ./test-pypi2/lib/python3.10/site-packages (from pureml-policy) (0.8.0)\n",
      "Requirement already satisfied: seaborn<0.13.0,>=0.12.2 in ./test-pypi2/lib/python3.10/site-packages (from pureml-policy) (0.12.2)\n",
      "Requirement already satisfied: pureml_evaluate<0.0.4.0,>=0.0.3.1 in ./test-pypi2/lib/python3.10/site-packages (from pureml-policy) (0.0.3.2)\n",
      "Requirement already satisfied: scikit-learn<2.0.0,>=1.2.2 in ./test-pypi2/lib/python3.10/site-packages (from pureml-policy) (1.3.1)\n",
      "Requirement already satisfied: pureml<0.5.0.0,>=0.4.1.1 in ./test-pypi2/lib/python3.10/site-packages (from pureml-policy) (0.4.1.1)\n",
      "Requirement already satisfied: PyPDF2<4.0.0,>=3.0.1 in ./test-pypi2/lib/python3.10/site-packages (from pureml-policy) (3.0.1)\n",
      "Requirement already satisfied: pydantic<2.0.0,>=1.9.1 in ./test-pypi2/lib/python3.10/site-packages (from pureml-policy) (1.10.13)\n",
      "Requirement already satisfied: daisy<2.0,>=1.0 in ./test-pypi2/lib/python3.10/site-packages (from pureml-policy) (1.0)\n",
      "Requirement already satisfied: reportlab<5.0.0,>=4.0.4 in ./test-pypi2/lib/python3.10/site-packages (from pureml-policy) (4.0.6)\n",
      "Requirement already satisfied: scipy<2.0.0,>=1.9.1 in ./test-pypi2/lib/python3.10/site-packages (from pureml-policy) (1.11.3)\n",
      "Requirement already satisfied: joblib<2.0.0,>=1.2.0 in ./test-pypi2/lib/python3.10/site-packages (from pureml-policy) (1.3.2)\n",
      "Requirement already satisfied: pandas<2.0.0,>=1.4.3 in ./test-pypi2/lib/python3.10/site-packages (from pureml-policy) (1.5.3)\n",
      "Requirement already satisfied: plotly<6.0.0,>=5.15.0 in ./test-pypi2/lib/python3.10/site-packages (from pureml-policy) (5.17.0)\n",
      "Requirement already satisfied: funlib.math in ./test-pypi2/lib/python3.10/site-packages (from daisy<2.0,>=1.0->pureml-policy) (0.1)\n",
      "Requirement already satisfied: numpy in ./test-pypi2/lib/python3.10/site-packages (from daisy<2.0,>=1.0->pureml-policy) (1.26.1)\n",
      "Requirement already satisfied: funlib.geometry in ./test-pypi2/lib/python3.10/site-packages (from daisy<2.0,>=1.0->pureml-policy) (0.2)\n",
      "Requirement already satisfied: tornado>=5 in ./test-pypi2/lib/python3.10/site-packages (from daisy<2.0,>=1.0->pureml-policy) (6.3.3)\n",
      "Requirement already satisfied: tqdm in ./test-pypi2/lib/python3.10/site-packages (from daisy<2.0,>=1.0->pureml-policy) (4.66.1)\n",
      "Requirement already satisfied: python-dateutil>=2.8.1 in ./test-pypi2/lib/python3.10/site-packages (from pandas<2.0.0,>=1.4.3->pureml-policy) (2.8.2)\n",
      "Requirement already satisfied: pytz>=2020.1 in ./test-pypi2/lib/python3.10/site-packages (from pandas<2.0.0,>=1.4.3->pureml-policy) (2023.3.post1)\n",
      "Requirement already satisfied: packaging in ./test-pypi2/lib/python3.10/site-packages (from plotly<6.0.0,>=5.15.0->pureml-policy) (23.2)\n",
      "Requirement already satisfied: tenacity>=6.2.0 in ./test-pypi2/lib/python3.10/site-packages (from plotly<6.0.0,>=5.15.0->pureml-policy) (8.2.3)\n",
      "Requirement already satisfied: docker<7.0.0,>=6.0.1 in ./test-pypi2/lib/python3.10/site-packages (from pureml<0.5.0.0,>=0.4.1.1->pureml-policy) (6.1.3)\n",
      "Requirement already satisfied: Pillow<10.0.0,>=9.3.0 in ./test-pypi2/lib/python3.10/site-packages (from pureml<0.5.0.0,>=0.4.1.1->pureml-policy) (9.5.0)\n",
      "Requirement already satisfied: nest-asyncio<2.0.0,>=1.5.6 in ./test-pypi2/lib/python3.10/site-packages (from pureml<0.5.0.0,>=0.4.1.1->pureml-policy) (1.5.8)\n",
      "Requirement already satisfied: python-dotenv<0.21.0,>=0.20.0 in ./test-pypi2/lib/python3.10/site-packages (from pureml<0.5.0.0,>=0.4.1.1->pureml-policy) (0.20.0)\n",
      "Requirement already satisfied: typer[all]<0.7.0,>=0.6.1 in ./test-pypi2/lib/python3.10/site-packages (from pureml<0.5.0.0,>=0.4.1.1->pureml-policy) (0.6.1)\n",
      "Requirement already satisfied: uvicorn<0.21.0,>=0.20.0 in ./test-pypi2/lib/python3.10/site-packages (from pureml<0.5.0.0,>=0.4.1.1->pureml-policy) (0.20.0)\n",
      "Requirement already satisfied: python-multipart<0.0.6,>=0.0.5 in ./test-pypi2/lib/python3.10/site-packages (from pureml<0.5.0.0,>=0.4.1.1->pureml-policy) (0.0.5)\n",
      "Requirement already satisfied: pyarrow<9.0.0,>=8.0.0 in ./test-pypi2/lib/python3.10/site-packages (from pureml<0.5.0.0,>=0.4.1.1->pureml-policy) (8.0.0)\n",
      "Requirement already satisfied: pyngrok<6.0.0,>=5.2.1 in ./test-pypi2/lib/python3.10/site-packages (from pureml<0.5.0.0,>=0.4.1.1->pureml-policy) (5.2.3)\n",
      "Requirement already satisfied: fastapi<0.89.0,>=0.88.0 in ./test-pypi2/lib/python3.10/site-packages (from pureml<0.5.0.0,>=0.4.1.1->pureml-policy) (0.88.0)\n",
      "Requirement already satisfied: matplotlib<4.0.0,>=3.6.2 in ./test-pypi2/lib/python3.10/site-packages (from pureml<0.5.0.0,>=0.4.1.1->pureml-policy) (3.8.0)\n",
      "Requirement already satisfied: boto3<2.0.0,>=1.26.114 in ./test-pypi2/lib/python3.10/site-packages (from pureml<0.5.0.0,>=0.4.1.1->pureml-policy) (1.28.63)\n",
      "Requirement already satisfied: PyJWT<3.0.0,>=2.4.0 in ./test-pypi2/lib/python3.10/site-packages (from pureml<0.5.0.0,>=0.4.1.1->pureml-policy) (2.8.0)\n",
      "Requirement already satisfied: ipapi<2.0.0,>=1.0.4 in ./test-pypi2/lib/python3.10/site-packages (from pureml<0.5.0.0,>=0.4.1.1->pureml-policy) (1.0.4)\n",
      "Requirement already satisfied: PyYAML<7.0,>=6.0 in ./test-pypi2/lib/python3.10/site-packages (from pureml<0.5.0.0,>=0.4.1.1->pureml-policy) (6.0.1)\n",
      "Requirement already satisfied: requests<3.0.0,>=2.28.1 in ./test-pypi2/lib/python3.10/site-packages (from pureml<0.5.0.0,>=0.4.1.1->pureml-policy) (2.31.0)\n",
      "Requirement already satisfied: typing-extensions>=4.2.0 in ./test-pypi2/lib/python3.10/site-packages (from pydantic<2.0.0,>=1.9.1->pureml-policy) (4.8.0)\n",
      "Requirement already satisfied: threadpoolctl>=2.0.0 in ./test-pypi2/lib/python3.10/site-packages (from scikit-learn<2.0.0,>=1.2.2->pureml-policy) (3.2.0)\n",
      "Requirement already satisfied: s3transfer<0.8.0,>=0.7.0 in ./test-pypi2/lib/python3.10/site-packages (from boto3<2.0.0,>=1.26.114->pureml<0.5.0.0,>=0.4.1.1->pureml-policy) (0.7.0)\n",
      "Requirement already satisfied: jmespath<2.0.0,>=0.7.1 in ./test-pypi2/lib/python3.10/site-packages (from boto3<2.0.0,>=1.26.114->pureml<0.5.0.0,>=0.4.1.1->pureml-policy) (1.0.1)\n",
      "Requirement already satisfied: botocore<1.32.0,>=1.31.63 in ./test-pypi2/lib/python3.10/site-packages (from boto3<2.0.0,>=1.26.114->pureml<0.5.0.0,>=0.4.1.1->pureml-policy) (1.31.63)\n",
      "Requirement already satisfied: urllib3>=1.26.0 in ./test-pypi2/lib/python3.10/site-packages (from docker<7.0.0,>=6.0.1->pureml<0.5.0.0,>=0.4.1.1->pureml-policy) (2.0.6)\n",
      "Requirement already satisfied: websocket-client>=0.32.0 in ./test-pypi2/lib/python3.10/site-packages (from docker<7.0.0,>=6.0.1->pureml<0.5.0.0,>=0.4.1.1->pureml-policy) (1.6.4)\n",
      "Requirement already satisfied: starlette==0.22.0 in ./test-pypi2/lib/python3.10/site-packages (from fastapi<0.89.0,>=0.88.0->pureml<0.5.0.0,>=0.4.1.1->pureml-policy) (0.22.0)\n",
      "Requirement already satisfied: anyio<5,>=3.4.0 in ./test-pypi2/lib/python3.10/site-packages (from starlette==0.22.0->fastapi<0.89.0,>=0.88.0->pureml<0.5.0.0,>=0.4.1.1->pureml-policy) (4.0.0)\n",
      "Requirement already satisfied: contourpy>=1.0.1 in ./test-pypi2/lib/python3.10/site-packages (from matplotlib<4.0.0,>=3.6.2->pureml<0.5.0.0,>=0.4.1.1->pureml-policy) (1.1.1)\n",
      "Requirement already satisfied: pyparsing>=2.3.1 in ./test-pypi2/lib/python3.10/site-packages (from matplotlib<4.0.0,>=3.6.2->pureml<0.5.0.0,>=0.4.1.1->pureml-policy) (3.1.1)\n",
      "Requirement already satisfied: fonttools>=4.22.0 in ./test-pypi2/lib/python3.10/site-packages (from matplotlib<4.0.0,>=3.6.2->pureml<0.5.0.0,>=0.4.1.1->pureml-policy) (4.43.1)\n",
      "Requirement already satisfied: cycler>=0.10 in ./test-pypi2/lib/python3.10/site-packages (from matplotlib<4.0.0,>=3.6.2->pureml<0.5.0.0,>=0.4.1.1->pureml-policy) (0.12.1)\n",
      "Requirement already satisfied: kiwisolver>=1.0.1 in ./test-pypi2/lib/python3.10/site-packages (from matplotlib<4.0.0,>=3.6.2->pureml<0.5.0.0,>=0.4.1.1->pureml-policy) (1.4.5)\n",
      "Requirement already satisfied: six>=1.5 in ./test-pypi2/lib/python3.10/site-packages (from python-dateutil>=2.8.1->pandas<2.0.0,>=1.4.3->pureml-policy) (1.16.0)\n",
      "Requirement already satisfied: charset-normalizer<4,>=2 in ./test-pypi2/lib/python3.10/site-packages (from requests<3.0.0,>=2.28.1->pureml<0.5.0.0,>=0.4.1.1->pureml-policy) (3.3.0)\n",
      "Requirement already satisfied: certifi>=2017.4.17 in ./test-pypi2/lib/python3.10/site-packages (from requests<3.0.0,>=2.28.1->pureml<0.5.0.0,>=0.4.1.1->pureml-policy) (2023.7.22)\n",
      "Requirement already satisfied: idna<4,>=2.5 in ./test-pypi2/lib/python3.10/site-packages (from requests<3.0.0,>=2.28.1->pureml<0.5.0.0,>=0.4.1.1->pureml-policy) (3.4)\n",
      "Requirement already satisfied: click<9.0.0,>=7.1.1 in ./test-pypi2/lib/python3.10/site-packages (from typer[all]<0.7.0,>=0.6.1->pureml<0.5.0.0,>=0.4.1.1->pureml-policy) (8.1.7)\n",
      "Requirement already satisfied: rich<13.0.0,>=10.11.0 in ./test-pypi2/lib/python3.10/site-packages (from typer[all]<0.7.0,>=0.6.1->pureml<0.5.0.0,>=0.4.1.1->pureml-policy) (12.6.0)\n",
      "Requirement already satisfied: colorama<0.5.0,>=0.4.3 in ./test-pypi2/lib/python3.10/site-packages (from typer[all]<0.7.0,>=0.6.1->pureml<0.5.0.0,>=0.4.1.1->pureml-policy) (0.4.6)\n",
      "Requirement already satisfied: shellingham<2.0.0,>=1.3.0 in ./test-pypi2/lib/python3.10/site-packages (from typer[all]<0.7.0,>=0.6.1->pureml<0.5.0.0,>=0.4.1.1->pureml-policy) (1.5.3)\n",
      "Requirement already satisfied: h11>=0.8 in ./test-pypi2/lib/python3.10/site-packages (from uvicorn<0.21.0,>=0.20.0->pureml<0.5.0.0,>=0.4.1.1->pureml-policy) (0.14.0)\n",
      "Requirement already satisfied: pygments<3.0.0,>=2.6.0 in ./test-pypi2/lib/python3.10/site-packages (from rich<13.0.0,>=10.11.0->typer[all]<0.7.0,>=0.6.1->pureml<0.5.0.0,>=0.4.1.1->pureml-policy) (2.16.1)\n",
      "Requirement already satisfied: commonmark<0.10.0,>=0.9.0 in ./test-pypi2/lib/python3.10/site-packages (from rich<13.0.0,>=10.11.0->typer[all]<0.7.0,>=0.6.1->pureml<0.5.0.0,>=0.4.1.1->pureml-policy) (0.9.1)\n",
      "Requirement already satisfied: sniffio>=1.1 in ./test-pypi2/lib/python3.10/site-packages (from anyio<5,>=3.4.0->starlette==0.22.0->fastapi<0.89.0,>=0.88.0->pureml<0.5.0.0,>=0.4.1.1->pureml-policy) (1.3.0)\n",
      "Requirement already satisfied: exceptiongroup>=1.0.2 in ./test-pypi2/lib/python3.10/site-packages (from anyio<5,>=3.4.0->starlette==0.22.0->fastapi<0.89.0,>=0.88.0->pureml<0.5.0.0,>=0.4.1.1->pureml-policy) (1.1.3)\n",
      "Installing collected packages: pureml-policy\n",
      "Successfully installed pureml-policy-0.0.1.1\n",
      "Note: you may need to restart the kernel to use updated packages.\n"
     ]
    }
   ],
   "source": [
    "%pip install --index-url https://test.pypi.org/simple/ --extra-index-url https://pypi.org/simple pureml-evaluate\n",
    "%pip install --index-url https://test.pypi.org/simple/ --extra-index-url https://pypi.org/simple pureml\n",
    "%pip install --index-url https://test.pypi.org/simple/ --extra-index-url https://pypi.org/simple pureml-policy\n"
   ]
  },
  {
   "cell_type": "code",
   "execution_count": null,
   "metadata": {},
   "outputs": [],
   "source": [
    "# use 'pureml auth login' to login to your account\n",
    "# pureml init -- Need to Run this in command line\n",
    "# puremlconfig.yaml file will be created in the current directory\n",
    "# Make sure to restart the kernel after running the above commands for the changes to take effect"
   ]
  },
  {
   "cell_type": "code",
   "execution_count": 1,
   "metadata": {},
   "outputs": [
    {
     "data": {
      "text/plain": [
       "'0.4.1.1'"
      ]
     },
     "execution_count": 1,
     "metadata": {},
     "output_type": "execute_result"
    }
   ],
   "source": [
    "import pureml\n",
    "\n",
    "pureml.__version__"
   ]
  },
  {
   "cell_type": "code",
   "execution_count": 2,
   "metadata": {},
   "outputs": [
    {
     "data": {
      "text/plain": [
       "'0.0.3.2'"
      ]
     },
     "execution_count": 2,
     "metadata": {},
     "output_type": "execute_result"
    }
   ],
   "source": [
    "import pureml_evaluate \n",
    "\n",
    "pureml_evaluate.__version__"
   ]
  },
  {
   "cell_type": "code",
   "execution_count": 3,
   "metadata": {},
   "outputs": [
    {
     "data": {
      "text/plain": [
       "'0.0.1.1'"
      ]
     },
     "execution_count": 3,
     "metadata": {},
     "output_type": "execute_result"
    }
   ],
   "source": [
    "import pureml_policy\n",
    "\n",
    "pureml_policy.__version__"
   ]
  },
  {
   "cell_type": "code",
   "execution_count": 1,
   "metadata": {},
   "outputs": [],
   "source": [
    "# Import all the required files\n",
    "import pureml\n",
    "from pureml.decorators import load_data,transformer,dataset,model\n",
    "import numpy as np\n",
    "import pandas as pd\n",
    "import lightgbm as lgb\n",
    "from sklearn.pipeline import Pipeline\n",
    "from sklearn.preprocessing import StandardScaler\n",
    "from sklearn.model_selection import train_test_split\n",
    "import warnings\n",
    "\n",
    "warnings.simplefilter(\"ignore\")\n",
    "rand_seed = 1234\n",
    "np.random.seed(rand_seed)"
   ]
  },
  {
   "cell_type": "code",
   "execution_count": 2,
   "metadata": {},
   "outputs": [],
   "source": [
    "@load_data()\n",
    "def load_dataset():\n",
    "    df = pd.read_excel(io='default of credit card clients.xls',header  = 1)\n",
    "\n",
    "    return df"
   ]
  },
  {
   "cell_type": "code",
   "execution_count": 3,
   "metadata": {},
   "outputs": [],
   "source": [
    "@transformer()\n",
    "def remove_columns(df):\n",
    "    return df.drop(['ID'],axis =1)"
   ]
  },
  {
   "cell_type": "code",
   "execution_count": 4,
   "metadata": {},
   "outputs": [],
   "source": [
    "@transformer()\n",
    "def rename_columns(df):\n",
    "    return df.rename(columns={\"PAY_0\": \"PAY_1\",\"default payment next month\":\"default\"})    "
   ]
  },
  {
   "cell_type": "code",
   "execution_count": 5,
   "metadata": {},
   "outputs": [],
   "source": [
    "@transformer()\n",
    "def dataset_imbalances(df):\n",
    "    categorical_features = [\"SEX\", \"EDUCATION\", \"MARRIAGE\"]\n",
    "\n",
    "    for col_name in categorical_features:\n",
    "        df[col_name] = df[col_name].astype(\"category\")\n",
    "\n",
    "    Y, A_str = df.loc[:, \"default\"], df.loc[:, \"SEX\"]\n",
    "    X = pd.get_dummies(df.drop(columns=[\"default\", \"SEX\"]))\n",
    "\n",
    "    #A_str = A.map({1: \"male\", 2: \"female\"})\n",
    "\n",
    "    A_str.value_counts(normalize=True)\n",
    "    Y.value_counts(normalize=True)\n",
    "    \n",
    "    # Generate \"Interest\" column as a DataFrame_str\n",
    "    interest_values = np.random.normal(loc=2 * Y, scale=A_str)\n",
    "    interest_column = pd.DataFrame(interest_values, columns=[\"Interest\"])\n",
    "\n",
    "    # Concatenate \"Interest\" column with X DataFrame\n",
    "    X = pd.concat([X, interest_column], axis=1)\n",
    "\n",
    "    return {'X':X,'Y':Y,'A_str':A_str}\n"
   ]
  },
  {
   "cell_type": "code",
   "execution_count": 6,
   "metadata": {},
   "outputs": [],
   "source": [
    "@transformer()\n",
    "def resample_training_data(X_train, Y_train, A_train):\n",
    "   \n",
    "    negative_ids = Y_train[Y_train == 0].index\n",
    "    positive_ids = Y_train[Y_train == 1].index\n",
    "    balanced_ids = positive_ids.union(\n",
    "        np.random.choice(a=negative_ids, size=len(positive_ids)))\n",
    "\n",
    "    X_train = X_train.loc[balanced_ids, :]\n",
    "    Y_train = Y_train.loc[balanced_ids]\n",
    "    A_train = A_train.loc[balanced_ids]\n",
    "    return  {\"X_train\": X_train, \"Y_train\":Y_train, \"A_train\": A_train}"
   ]
  },
  {
   "cell_type": "code",
   "execution_count": 7,
   "metadata": {},
   "outputs": [
    {
     "data": {
      "text/html": [
       "<pre style=\"white-space:pre;overflow-x:auto;line-height:normal;font-family:Menlo,'DejaVu Sans Mono',consolas,'Courier New',monospace\"><span style=\"color: #800000; text-decoration-color: #800000; font-weight: bold\">Dataset details have not been found</span>\n",
       "</pre>\n"
      ],
      "text/plain": [
       "\u001b[1;31mDataset details have not been found\u001b[0m\n"
      ]
     },
     "metadata": {},
     "output_type": "display_data"
    },
    {
     "data": {
      "text/html": [
       "<pre style=\"white-space:pre;overflow-x:auto;line-height:normal;font-family:Menlo,'DejaVu Sans Mono',consolas,'Courier New',monospace\"><span style=\"color: #008000; text-decoration-color: #008000; font-weight: bold\">Dataset has been created!</span>\n",
       "</pre>\n"
      ],
      "text/plain": [
       "\u001b[1;32mDataset has been created!\u001b[0m\n"
      ]
     },
     "metadata": {},
     "output_type": "display_data"
    },
    {
     "data": {
      "text/html": [
       "<pre style=\"white-space:pre;overflow-x:auto;line-height:normal;font-family:Menlo,'DejaVu Sans Mono',consolas,'Courier New',monospace\"><span style=\"color: #008000; text-decoration-color: #008000; font-weight: bold\"> Connected to Branch</span>\n",
       "</pre>\n"
      ],
      "text/plain": [
       "\u001b[1;32m Connected to Branch\u001b[0m\n"
      ]
     },
     "metadata": {},
     "output_type": "display_data"
    },
    {
     "data": {
      "text/html": [
       "<pre style=\"white-space:pre;overflow-x:auto;line-height:normal;font-family:Menlo,'DejaVu Sans Mono',consolas,'Courier New',monospace\">Hash :  9d01dd568024a9cd182ce230b185e11d\n",
       "</pre>\n"
      ],
      "text/plain": [
       "Hash :  9d01dd568024a9cd182ce230b185e11d\n"
      ]
     },
     "metadata": {},
     "output_type": "display_data"
    },
    {
     "data": {
      "text/html": [
       "<pre style=\"white-space:pre;overflow-x:auto;line-height:normal;font-family:Menlo,'DejaVu Sans Mono',consolas,'Courier New',monospace\">Version:  v1\n",
       "</pre>\n"
      ],
      "text/plain": [
       "Version:  v1\n"
      ]
     },
     "metadata": {},
     "output_type": "display_data"
    },
    {
     "data": {
      "text/html": [
       "<pre style=\"white-space:pre;overflow-x:auto;line-height:normal;font-family:Menlo,'DejaVu Sans Mono',consolas,'Courier New',monospace\">Dataset label:  credit_dataset_test_pypi2:main:v1\n",
       "</pre>\n"
      ],
      "text/plain": [
       "Dataset label:  credit_dataset_test_pypi2:main:v1\n"
      ]
     },
     "metadata": {},
     "output_type": "display_data"
    },
    {
     "data": {
      "text/html": [
       "<pre style=\"white-space:pre;overflow-x:auto;line-height:normal;font-family:Menlo,'DejaVu Sans Mono',consolas,'Courier New',monospace\"><span style=\"color: #008000; text-decoration-color: #008000; font-weight: bold\">Dataset and lineage have been registered!</span>\n",
       "</pre>\n"
      ],
      "text/plain": [
       "\u001b[1;32mDataset and lineage have been registered!\u001b[0m\n"
      ]
     },
     "metadata": {},
     "output_type": "display_data"
    },
    {
     "data": {
      "text/plain": [
       "{'x_train':        LIMIT_BAL  AGE  PAY_1  PAY_2  PAY_3  PAY_4  PAY_5  PAY_6  BILL_AMT1  \\\n",
       " 0          20000   24      2      2     -1     -1     -2     -2       3913   \n",
       " 1         120000   26     -1      2      0      0      0      2       2682   \n",
       " 3          50000   37      0      0      0      0      0      0      46990   \n",
       " 4          50000   57     -1      0     -1      0      0      0       8617   \n",
       " 8         140000   28      0      0      2      0      0      0      11285   \n",
       " ...          ...  ...    ...    ...    ...    ...    ...    ...        ...   \n",
       " 29973     230000   35      1     -2     -2     -2     -2     -2          0   \n",
       " 29976      40000   47      2      2      3      2      2      2      52358   \n",
       " 29981      50000   44      1      2      2      2      0      0      38671   \n",
       " 29981      50000   44      1      2      2      2      0      0      38671   \n",
       " 29982      90000   36      0      0      0      0      0      0       7752   \n",
       " \n",
       "        BILL_AMT2  ...  EDUCATION_2  EDUCATION_3  EDUCATION_4  EDUCATION_5  \\\n",
       " 0           3102  ...            1            0            0            0   \n",
       " 1           1725  ...            1            0            0            0   \n",
       " 3          48233  ...            1            0            0            0   \n",
       " 4           5670  ...            1            0            0            0   \n",
       " 8          14096  ...            0            1            0            0   \n",
       " ...          ...  ...          ...          ...          ...          ...   \n",
       " 29973          0  ...            1            0            0            0   \n",
       " 29976      54892  ...            1            0            0            0   \n",
       " 29981      36772  ...            1            0            0            0   \n",
       " 29981      36772  ...            1            0            0            0   \n",
       " 29982       9112  ...            1            0            0            0   \n",
       " \n",
       "        EDUCATION_6  MARRIAGE_0  MARRIAGE_1  MARRIAGE_2  MARRIAGE_3  Interest  \n",
       " 0                0           0           1           0           0  2.942870  \n",
       " 1                0           0           0           1           0 -0.381951  \n",
       " 3                0           0           1           0           0 -0.625304  \n",
       " 4                0           0           1           0           0 -0.720589  \n",
       " 8                0           0           1           0           0  0.031393  \n",
       " ...            ...         ...         ...         ...         ...       ...  \n",
       " 29973            0           0           1           0           0  0.946851  \n",
       " 29976            0           0           0           1           0  3.185992  \n",
       " 29981            0           0           1           0           0  0.285098  \n",
       " 29981            0           0           1           0           0  0.285098  \n",
       " 29982            0           0           1           0           0  1.480223  \n",
       " \n",
       " [8626 rows x 32 columns],\n",
       " 'y_train': 0        1\n",
       " 1        1\n",
       " 3        0\n",
       " 4        0\n",
       " 8        0\n",
       "         ..\n",
       " 29973    1\n",
       " 29976    1\n",
       " 29981    0\n",
       " 29981    0\n",
       " 29982    1\n",
       " Name: default, Length: 8626, dtype: int64,\n",
       " 'x_test':        LIMIT_BAL  AGE  PAY_1  PAY_2  PAY_3  PAY_4  PAY_5  PAY_6  BILL_AMT1  \\\n",
       " 9407      160000   28     -2     -2     -2     -2     -2     -2          0   \n",
       " 2311      180000   26      0      0      0      0      0      0      93169   \n",
       " 22633     230000   43     -1     -1     -1     -1     -1     -2        390   \n",
       " 9255      110000   28      1     -1     -1     -1      0      0       -100   \n",
       " 8901      250000   40     -1     -1     -1     -1     -1     -1       3264   \n",
       " ...          ...  ...    ...    ...    ...    ...    ...    ...        ...   \n",
       " 26220     210000   40     -1     -1     -1     -1     -1     -1        316   \n",
       " 18170     250000   47     -2     -2     -2     -2     -2     -2          0   \n",
       " 25486     600000   31     -2     -2     -2     -2     -2     -2        -84   \n",
       " 3113      220000   44     -1      0      0      0      0      0     208858   \n",
       " 27486      30000   57      0      0      0      0      0      0      24911   \n",
       " \n",
       "        BILL_AMT2  ...  EDUCATION_2  EDUCATION_3  EDUCATION_4  EDUCATION_5  \\\n",
       " 9407           0  ...            1            0            0            0   \n",
       " 2311       58983  ...            1            0            0            0   \n",
       " 22633        390  ...            0            0            0            0   \n",
       " 9255         200  ...            0            0            0            0   \n",
       " 8901        2395  ...            0            0            0            0   \n",
       " ...          ...  ...          ...          ...          ...          ...   \n",
       " 26220        316  ...            0            0            0            0   \n",
       " 18170          0  ...            0            0            0            0   \n",
       " 25486        115  ...            0            0            0            0   \n",
       " 3113      212640  ...            0            0            0            0   \n",
       " 27486      26241  ...            1            0            0            0   \n",
       " \n",
       "        EDUCATION_6  MARRIAGE_0  MARRIAGE_1  MARRIAGE_2  MARRIAGE_3  Interest  \n",
       " 9407             0           0           0           1           0 -1.328418  \n",
       " 2311             0           0           0           1           0  0.499167  \n",
       " 22633            0           0           1           0           0  2.233946  \n",
       " 9255             0           0           0           1           0 -0.045508  \n",
       " 8901             0           0           0           1           0 -1.821064  \n",
       " ...            ...         ...         ...         ...         ...       ...  \n",
       " 26220            0           0           1           0           0  2.221083  \n",
       " 18170            0           0           1           0           0 -2.297302  \n",
       " 25486            0           0           0           1           0  0.521262  \n",
       " 3113             0           0           1           0           0 -3.482351  \n",
       " 27486            0           0           1           0           0  2.534986  \n",
       " \n",
       " [10500 rows x 32 columns],\n",
       " 'y_test': array([0, 0, 1, ..., 0, 0, 1]),\n",
       " 'sensitive_features': array([1, 1, 2, ..., 2, 2, 1])}"
      ]
     },
     "execution_count": 7,
     "metadata": {},
     "output_type": "execute_result"
    }
   ],
   "source": [
    "from pureml.decorators import dataset\n",
    "\n",
    "@dataset(label='credit_dataset_test_pypi2:main',upload=True)\n",
    "def create_dataset():\n",
    "    df = load_dataset()\n",
    "    df = remove_columns(df)\n",
    "    df = rename_columns(df)\n",
    "    data  = dataset_imbalances(df)\n",
    "    X,Y,A_str = data['X'],data['Y'],data['A_str']\n",
    "    X_train, X_test, y_train, y_test, A_train, A_test = train_test_split(X, Y, A_str, test_size=0.35, stratify=Y)\n",
    "    data = resample_training_data(X_train, y_train, A_train)\n",
    "    X_train, y_train, A_train = data['X_train'],data['Y_train'],data['A_train']\n",
    "    A_test = A_test.to_numpy()\n",
    "    y_test = y_test.to_numpy()\n",
    "    return {\"x_train\":X_train,\"y_train\":y_train,\"x_test\":X_test,\"y_test\":y_test,\"sensitive_features\" : A_test}\n",
    "    \n",
    "\n",
    "create_dataset()"
   ]
  },
  {
   "cell_type": "code",
   "execution_count": 8,
   "metadata": {},
   "outputs": [],
   "source": [
    "data = pureml.dataset.fetch('credit_dataset_test_pypi2:main:v1')\n",
    "x_test = data['x_test']\n",
    "y_test = data['y_test']\n"
   ]
  },
  {
   "cell_type": "code",
   "execution_count": 9,
   "metadata": {},
   "outputs": [
    {
     "name": "stdout",
     "output_type": "stream",
     "text": [
      "[LightGBM] [Info] Number of positive: 4313, number of negative: 4313\n",
      "[LightGBM] [Info] Auto-choosing row-wise multi-threading, the overhead of testing was 1.169618 seconds.\n",
      "You can set `force_row_wise=true` to remove the overhead.\n",
      "And if memory is not enough, you can set `force_col_wise=true`.\n",
      "[LightGBM] [Info] Total Bins 3523\n",
      "[LightGBM] [Info] Number of data points in the train set: 8626, number of used features: 29\n",
      "[LightGBM] [Info] [binary:BoostFromScore]: pavg=0.500000 -> initscore=0.000000\n"
     ]
    },
    {
     "data": {
      "text/html": [
       "<pre style=\"white-space:pre;overflow-x:auto;line-height:normal;font-family:Menlo,'DejaVu Sans Mono',consolas,'Courier New',monospace\"><span style=\"color: #800000; text-decoration-color: #800000; font-weight: bold\">Model details have not been found</span>\n",
       "</pre>\n"
      ],
      "text/plain": [
       "\u001b[1;31mModel details have not been found\u001b[0m\n"
      ]
     },
     "metadata": {},
     "output_type": "display_data"
    },
    {
     "data": {
      "text/html": [
       "<pre style=\"white-space:pre;overflow-x:auto;line-height:normal;font-family:Menlo,'DejaVu Sans Mono',consolas,'Courier New',monospace\"><span style=\"color: #008000; text-decoration-color: #008000; font-weight: bold\">Model has been created!</span>\n",
       "</pre>\n"
      ],
      "text/plain": [
       "\u001b[1;32mModel has been created!\u001b[0m\n"
      ]
     },
     "metadata": {},
     "output_type": "display_data"
    },
    {
     "data": {
      "text/html": [
       "<pre style=\"white-space:pre;overflow-x:auto;line-height:normal;font-family:Menlo,'DejaVu Sans Mono',consolas,'Courier New',monospace\">model_created <span style=\"color: #00ff00; text-decoration-color: #00ff00; font-style: italic\">True</span>\n",
       "</pre>\n"
      ],
      "text/plain": [
       "model_created \u001b[3;92mTrue\u001b[0m\n"
      ]
     },
     "metadata": {},
     "output_type": "display_data"
    },
    {
     "data": {
      "text/html": [
       "<pre style=\"white-space:pre;overflow-x:auto;line-height:normal;font-family:Menlo,'DejaVu Sans Mono',consolas,'Courier New',monospace\">branch_exists <span style=\"color: #00ff00; text-decoration-color: #00ff00; font-style: italic\">True</span>\n",
       "</pre>\n"
      ],
      "text/plain": [
       "branch_exists \u001b[3;92mTrue\u001b[0m\n"
      ]
     },
     "metadata": {},
     "output_type": "display_data"
    },
    {
     "data": {
      "text/html": [
       "<pre style=\"white-space:pre;overflow-x:auto;line-height:normal;font-family:Menlo,'DejaVu Sans Mono',consolas,'Courier New',monospace\"><span style=\"color: #008000; text-decoration-color: #008000; font-weight: bold\">Model has been registered!</span>\n",
       "</pre>\n"
      ],
      "text/plain": [
       "\u001b[1;32mModel has been registered!\u001b[0m\n"
      ]
     },
     "metadata": {},
     "output_type": "display_data"
    },
    {
     "data": {
      "text/html": [
       "<pre style=\"white-space:pre;overflow-x:auto;line-height:normal;font-family:Menlo,'DejaVu Sans Mono',consolas,'Courier New',monospace\">Model Version:  v1\n",
       "</pre>\n"
      ],
      "text/plain": [
       "Model Version:  v1\n"
      ]
     },
     "metadata": {},
     "output_type": "display_data"
    },
    {
     "data": {
      "text/html": [
       "<pre style=\"white-space:pre;overflow-x:auto;line-height:normal;font-family:Menlo,'DejaVu Sans Mono',consolas,'Courier New',monospace\">Model label:  credit_example_test_pypi2:main:v1\n",
       "</pre>\n"
      ],
      "text/plain": [
       "Model label:  credit_example_test_pypi2:main:v1\n"
      ]
     },
     "metadata": {},
     "output_type": "display_data"
    },
    {
     "name": "stdout",
     "output_type": "stream",
     "text": [
      "No metrics are found in config\n",
      "No params are found in config\n",
      "No figures are found in config\n"
     ]
    },
    {
     "data": {
      "text/html": [
       "<style>#sk-container-id-1 {color: black;}#sk-container-id-1 pre{padding: 0;}#sk-container-id-1 div.sk-toggleable {background-color: white;}#sk-container-id-1 label.sk-toggleable__label {cursor: pointer;display: block;width: 100%;margin-bottom: 0;padding: 0.3em;box-sizing: border-box;text-align: center;}#sk-container-id-1 label.sk-toggleable__label-arrow:before {content: \"▸\";float: left;margin-right: 0.25em;color: #696969;}#sk-container-id-1 label.sk-toggleable__label-arrow:hover:before {color: black;}#sk-container-id-1 div.sk-estimator:hover label.sk-toggleable__label-arrow:before {color: black;}#sk-container-id-1 div.sk-toggleable__content {max-height: 0;max-width: 0;overflow: hidden;text-align: left;background-color: #f0f8ff;}#sk-container-id-1 div.sk-toggleable__content pre {margin: 0.2em;color: black;border-radius: 0.25em;background-color: #f0f8ff;}#sk-container-id-1 input.sk-toggleable__control:checked~div.sk-toggleable__content {max-height: 200px;max-width: 100%;overflow: auto;}#sk-container-id-1 input.sk-toggleable__control:checked~label.sk-toggleable__label-arrow:before {content: \"▾\";}#sk-container-id-1 div.sk-estimator input.sk-toggleable__control:checked~label.sk-toggleable__label {background-color: #d4ebff;}#sk-container-id-1 div.sk-label input.sk-toggleable__control:checked~label.sk-toggleable__label {background-color: #d4ebff;}#sk-container-id-1 input.sk-hidden--visually {border: 0;clip: rect(1px 1px 1px 1px);clip: rect(1px, 1px, 1px, 1px);height: 1px;margin: -1px;overflow: hidden;padding: 0;position: absolute;width: 1px;}#sk-container-id-1 div.sk-estimator {font-family: monospace;background-color: #f0f8ff;border: 1px dotted black;border-radius: 0.25em;box-sizing: border-box;margin-bottom: 0.5em;}#sk-container-id-1 div.sk-estimator:hover {background-color: #d4ebff;}#sk-container-id-1 div.sk-parallel-item::after {content: \"\";width: 100%;border-bottom: 1px solid gray;flex-grow: 1;}#sk-container-id-1 div.sk-label:hover label.sk-toggleable__label {background-color: #d4ebff;}#sk-container-id-1 div.sk-serial::before {content: \"\";position: absolute;border-left: 1px solid gray;box-sizing: border-box;top: 0;bottom: 0;left: 50%;z-index: 0;}#sk-container-id-1 div.sk-serial {display: flex;flex-direction: column;align-items: center;background-color: white;padding-right: 0.2em;padding-left: 0.2em;position: relative;}#sk-container-id-1 div.sk-item {position: relative;z-index: 1;}#sk-container-id-1 div.sk-parallel {display: flex;align-items: stretch;justify-content: center;background-color: white;position: relative;}#sk-container-id-1 div.sk-item::before, #sk-container-id-1 div.sk-parallel-item::before {content: \"\";position: absolute;border-left: 1px solid gray;box-sizing: border-box;top: 0;bottom: 0;left: 50%;z-index: -1;}#sk-container-id-1 div.sk-parallel-item {display: flex;flex-direction: column;z-index: 1;position: relative;background-color: white;}#sk-container-id-1 div.sk-parallel-item:first-child::after {align-self: flex-end;width: 50%;}#sk-container-id-1 div.sk-parallel-item:last-child::after {align-self: flex-start;width: 50%;}#sk-container-id-1 div.sk-parallel-item:only-child::after {width: 0;}#sk-container-id-1 div.sk-dashed-wrapped {border: 1px dashed gray;margin: 0 0.4em 0.5em 0.4em;box-sizing: border-box;padding-bottom: 0.4em;background-color: white;}#sk-container-id-1 div.sk-label label {font-family: monospace;font-weight: bold;display: inline-block;line-height: 1.2em;}#sk-container-id-1 div.sk-label-container {text-align: center;}#sk-container-id-1 div.sk-container {/* jupyter's `normalize.less` sets `[hidden] { display: none; }` but bootstrap.min.css set `[hidden] { display: none !important; }` so we also need the `!important` here to be able to override the default hidden behavior on the sphinx rendered scikit-learn.org. See: https://github.com/scikit-learn/scikit-learn/issues/21755 */display: inline-block !important;position: relative;}#sk-container-id-1 div.sk-text-repr-fallback {display: none;}</style><div id=\"sk-container-id-1\" class=\"sk-top-container\"><div class=\"sk-text-repr-fallback\"><pre>Pipeline(steps=[(&#x27;preprocessing&#x27;, StandardScaler()),\n",
       "                (&#x27;classifier&#x27;,\n",
       "                 LGBMClassifier(learning_rate=0.03, max_depth=3, metric=&#x27;auc&#x27;,\n",
       "                                n_jobs=1, num_leaves=10, random_state=1234))])</pre><b>In a Jupyter environment, please rerun this cell to show the HTML representation or trust the notebook. <br />On GitHub, the HTML representation is unable to render, please try loading this page with nbviewer.org.</b></div><div class=\"sk-container\" hidden><div class=\"sk-item sk-dashed-wrapped\"><div class=\"sk-label-container\"><div class=\"sk-label sk-toggleable\"><input class=\"sk-toggleable__control sk-hidden--visually\" id=\"sk-estimator-id-1\" type=\"checkbox\" ><label for=\"sk-estimator-id-1\" class=\"sk-toggleable__label sk-toggleable__label-arrow\">Pipeline</label><div class=\"sk-toggleable__content\"><pre>Pipeline(steps=[(&#x27;preprocessing&#x27;, StandardScaler()),\n",
       "                (&#x27;classifier&#x27;,\n",
       "                 LGBMClassifier(learning_rate=0.03, max_depth=3, metric=&#x27;auc&#x27;,\n",
       "                                n_jobs=1, num_leaves=10, random_state=1234))])</pre></div></div></div><div class=\"sk-serial\"><div class=\"sk-item\"><div class=\"sk-estimator sk-toggleable\"><input class=\"sk-toggleable__control sk-hidden--visually\" id=\"sk-estimator-id-2\" type=\"checkbox\" ><label for=\"sk-estimator-id-2\" class=\"sk-toggleable__label sk-toggleable__label-arrow\">StandardScaler</label><div class=\"sk-toggleable__content\"><pre>StandardScaler()</pre></div></div></div><div class=\"sk-item\"><div class=\"sk-estimator sk-toggleable\"><input class=\"sk-toggleable__control sk-hidden--visually\" id=\"sk-estimator-id-3\" type=\"checkbox\" ><label for=\"sk-estimator-id-3\" class=\"sk-toggleable__label sk-toggleable__label-arrow\">LGBMClassifier</label><div class=\"sk-toggleable__content\"><pre>LGBMClassifier(learning_rate=0.03, max_depth=3, metric=&#x27;auc&#x27;, n_jobs=1,\n",
       "               num_leaves=10, random_state=1234)</pre></div></div></div></div></div></div></div>"
      ],
      "text/plain": [
       "Pipeline(steps=[('preprocessing', StandardScaler()),\n",
       "                ('classifier',\n",
       "                 LGBMClassifier(learning_rate=0.03, max_depth=3, metric='auc',\n",
       "                                n_jobs=1, num_leaves=10, random_state=1234))])"
      ]
     },
     "execution_count": 9,
     "metadata": {},
     "output_type": "execute_result"
    }
   ],
   "source": [
    "from pureml.decorators import model\n",
    "import pureml\n",
    "\n",
    "@model(label='credit_example_test_pypi2:main')\n",
    "def create_model():\n",
    "    data = pureml.dataset.fetch('credit_dataset_test_pypi2:main:v1')\n",
    "    x_train = data['x_train']\n",
    "    y_train = data['y_train']\n",
    "    lgb_params = {\n",
    "    \"metric\": \"auc\",\n",
    "    \"learning_rate\": 0.03,\n",
    "    \"num_leaves\": 10,\n",
    "    \"max_depth\": 3,\n",
    "    \"random_state\": rand_seed,\n",
    "    \"n_jobs\": 1}\n",
    "\n",
    "    #pureml.log(params=lgb_params)\n",
    "    estimator = Pipeline(\n",
    "        steps=[\n",
    "            (\"preprocessing\", StandardScaler()),\n",
    "            (\"classifier\", lgb.LGBMClassifier(**lgb_params)),\n",
    "        ]\n",
    "    )\n",
    "\n",
    "    estimator.fit(x_train, y_train)\n",
    "    return estimator\n",
    "\n",
    "create_model()"
   ]
  },
  {
   "cell_type": "code",
   "execution_count": 10,
   "metadata": {},
   "outputs": [
    {
     "data": {
      "text/html": [
       "<style>#sk-container-id-2 {color: black;}#sk-container-id-2 pre{padding: 0;}#sk-container-id-2 div.sk-toggleable {background-color: white;}#sk-container-id-2 label.sk-toggleable__label {cursor: pointer;display: block;width: 100%;margin-bottom: 0;padding: 0.3em;box-sizing: border-box;text-align: center;}#sk-container-id-2 label.sk-toggleable__label-arrow:before {content: \"▸\";float: left;margin-right: 0.25em;color: #696969;}#sk-container-id-2 label.sk-toggleable__label-arrow:hover:before {color: black;}#sk-container-id-2 div.sk-estimator:hover label.sk-toggleable__label-arrow:before {color: black;}#sk-container-id-2 div.sk-toggleable__content {max-height: 0;max-width: 0;overflow: hidden;text-align: left;background-color: #f0f8ff;}#sk-container-id-2 div.sk-toggleable__content pre {margin: 0.2em;color: black;border-radius: 0.25em;background-color: #f0f8ff;}#sk-container-id-2 input.sk-toggleable__control:checked~div.sk-toggleable__content {max-height: 200px;max-width: 100%;overflow: auto;}#sk-container-id-2 input.sk-toggleable__control:checked~label.sk-toggleable__label-arrow:before {content: \"▾\";}#sk-container-id-2 div.sk-estimator input.sk-toggleable__control:checked~label.sk-toggleable__label {background-color: #d4ebff;}#sk-container-id-2 div.sk-label input.sk-toggleable__control:checked~label.sk-toggleable__label {background-color: #d4ebff;}#sk-container-id-2 input.sk-hidden--visually {border: 0;clip: rect(1px 1px 1px 1px);clip: rect(1px, 1px, 1px, 1px);height: 1px;margin: -1px;overflow: hidden;padding: 0;position: absolute;width: 1px;}#sk-container-id-2 div.sk-estimator {font-family: monospace;background-color: #f0f8ff;border: 1px dotted black;border-radius: 0.25em;box-sizing: border-box;margin-bottom: 0.5em;}#sk-container-id-2 div.sk-estimator:hover {background-color: #d4ebff;}#sk-container-id-2 div.sk-parallel-item::after {content: \"\";width: 100%;border-bottom: 1px solid gray;flex-grow: 1;}#sk-container-id-2 div.sk-label:hover label.sk-toggleable__label {background-color: #d4ebff;}#sk-container-id-2 div.sk-serial::before {content: \"\";position: absolute;border-left: 1px solid gray;box-sizing: border-box;top: 0;bottom: 0;left: 50%;z-index: 0;}#sk-container-id-2 div.sk-serial {display: flex;flex-direction: column;align-items: center;background-color: white;padding-right: 0.2em;padding-left: 0.2em;position: relative;}#sk-container-id-2 div.sk-item {position: relative;z-index: 1;}#sk-container-id-2 div.sk-parallel {display: flex;align-items: stretch;justify-content: center;background-color: white;position: relative;}#sk-container-id-2 div.sk-item::before, #sk-container-id-2 div.sk-parallel-item::before {content: \"\";position: absolute;border-left: 1px solid gray;box-sizing: border-box;top: 0;bottom: 0;left: 50%;z-index: -1;}#sk-container-id-2 div.sk-parallel-item {display: flex;flex-direction: column;z-index: 1;position: relative;background-color: white;}#sk-container-id-2 div.sk-parallel-item:first-child::after {align-self: flex-end;width: 50%;}#sk-container-id-2 div.sk-parallel-item:last-child::after {align-self: flex-start;width: 50%;}#sk-container-id-2 div.sk-parallel-item:only-child::after {width: 0;}#sk-container-id-2 div.sk-dashed-wrapped {border: 1px dashed gray;margin: 0 0.4em 0.5em 0.4em;box-sizing: border-box;padding-bottom: 0.4em;background-color: white;}#sk-container-id-2 div.sk-label label {font-family: monospace;font-weight: bold;display: inline-block;line-height: 1.2em;}#sk-container-id-2 div.sk-label-container {text-align: center;}#sk-container-id-2 div.sk-container {/* jupyter's `normalize.less` sets `[hidden] { display: none; }` but bootstrap.min.css set `[hidden] { display: none !important; }` so we also need the `!important` here to be able to override the default hidden behavior on the sphinx rendered scikit-learn.org. See: https://github.com/scikit-learn/scikit-learn/issues/21755 */display: inline-block !important;position: relative;}#sk-container-id-2 div.sk-text-repr-fallback {display: none;}</style><div id=\"sk-container-id-2\" class=\"sk-top-container\"><div class=\"sk-text-repr-fallback\"><pre>Pipeline(steps=[(&#x27;preprocessing&#x27;, StandardScaler()),\n",
       "                (&#x27;classifier&#x27;,\n",
       "                 LGBMClassifier(learning_rate=0.03, max_depth=3, metric=&#x27;auc&#x27;,\n",
       "                                n_jobs=1, num_leaves=10, random_state=1234))])</pre><b>In a Jupyter environment, please rerun this cell to show the HTML representation or trust the notebook. <br />On GitHub, the HTML representation is unable to render, please try loading this page with nbviewer.org.</b></div><div class=\"sk-container\" hidden><div class=\"sk-item sk-dashed-wrapped\"><div class=\"sk-label-container\"><div class=\"sk-label sk-toggleable\"><input class=\"sk-toggleable__control sk-hidden--visually\" id=\"sk-estimator-id-4\" type=\"checkbox\" ><label for=\"sk-estimator-id-4\" class=\"sk-toggleable__label sk-toggleable__label-arrow\">Pipeline</label><div class=\"sk-toggleable__content\"><pre>Pipeline(steps=[(&#x27;preprocessing&#x27;, StandardScaler()),\n",
       "                (&#x27;classifier&#x27;,\n",
       "                 LGBMClassifier(learning_rate=0.03, max_depth=3, metric=&#x27;auc&#x27;,\n",
       "                                n_jobs=1, num_leaves=10, random_state=1234))])</pre></div></div></div><div class=\"sk-serial\"><div class=\"sk-item\"><div class=\"sk-estimator sk-toggleable\"><input class=\"sk-toggleable__control sk-hidden--visually\" id=\"sk-estimator-id-5\" type=\"checkbox\" ><label for=\"sk-estimator-id-5\" class=\"sk-toggleable__label sk-toggleable__label-arrow\">StandardScaler</label><div class=\"sk-toggleable__content\"><pre>StandardScaler()</pre></div></div></div><div class=\"sk-item\"><div class=\"sk-estimator sk-toggleable\"><input class=\"sk-toggleable__control sk-hidden--visually\" id=\"sk-estimator-id-6\" type=\"checkbox\" ><label for=\"sk-estimator-id-6\" class=\"sk-toggleable__label sk-toggleable__label-arrow\">LGBMClassifier</label><div class=\"sk-toggleable__content\"><pre>LGBMClassifier(learning_rate=0.03, max_depth=3, metric=&#x27;auc&#x27;, n_jobs=1,\n",
       "               num_leaves=10, random_state=1234)</pre></div></div></div></div></div></div></div>"
      ],
      "text/plain": [
       "Pipeline(steps=[('preprocessing', StandardScaler()),\n",
       "                ('classifier',\n",
       "                 LGBMClassifier(learning_rate=0.03, max_depth=3, metric='auc',\n",
       "                                n_jobs=1, num_leaves=10, random_state=1234))])"
      ]
     },
     "execution_count": 10,
     "metadata": {},
     "output_type": "execute_result"
    }
   ],
   "source": [
    "import pureml\n",
    "\n",
    "\n",
    "pureml.model.fetch(label='credit_example_test_pypi2:main:v1')"
   ]
  },
  {
   "cell_type": "code",
   "execution_count": 11,
   "metadata": {},
   "outputs": [
    {
     "data": {
      "text/html": [
       "<pre style=\"white-space:pre;overflow-x:auto;line-height:normal;font-family:Menlo,'DejaVu Sans Mono',consolas,'Courier New',monospace\"><span style=\"color: #008000; text-decoration-color: #008000; font-weight: bold\">Predict Function has been registered!</span>\n",
       "</pre>\n"
      ],
      "text/plain": [
       "\u001b[1;32mPredict Function has been registered!\u001b[0m\n"
      ]
     },
     "metadata": {},
     "output_type": "display_data"
    },
    {
     "data": {
      "text/html": [
       "<pre style=\"white-space:pre;overflow-x:auto;line-height:normal;font-family:Menlo,'DejaVu Sans Mono',consolas,'Courier New',monospace\"><span style=\"font-weight: bold\">{</span><span style=\"color: #008000; text-decoration-color: #008000\">\"status\"</span>:<span style=\"color: #008080; text-decoration-color: #008080; font-weight: bold\">200</span>,<span style=\"color: #008000; text-decoration-color: #008000\">\"data\"</span>:<span style=\"font-weight: bold\">[{</span><span style=\"color: #008000; text-decoration-color: #008000\">\"key\"</span>:<span style=\"color: #008000; text-decoration-color: #008000\">\"predict\"</span>,<span style=\"color: #008000; text-decoration-color: #008000\">\"data\"</span>:<span style=\"color: #008000; text-decoration-color: #008000\">\"predict.py\"</span>,<span style=\"color: #008000; text-decoration-color: #008000\">\"model_version\"</span>:<span style=\"font-weight: bold\">{</span><span style=\"color: #008000; text-decoration-color: #008000\">\"uuid\"</span>:<span style=\"color: #008000; text-decoration-color: #008000\">\"6cc5d24a-8716-4d4f-a106-aceea6a</span>\n",
       "<span style=\"color: #008000; text-decoration-color: #008000\">28967\"</span>,<span style=\"color: #008000; text-decoration-color: #008000\">\"version\"</span>:<span style=\"color: #008000; text-decoration-color: #008000\">\"v1\"</span><span style=\"font-weight: bold\">}</span>,<span style=\"color: #008000; text-decoration-color: #008000\">\"dataset_version\"</span>:<span style=\"font-weight: bold\">{</span><span style=\"color: #008000; text-decoration-color: #008000\">\"uuid\"</span>:<span style=\"color: #008000; text-decoration-color: #008000\">\"00000000-0000-0000-0000-000000000000\"</span>,<span style=\"color: #008000; text-decoration-color: #008000\">\"version\"</span>:<span style=\"color: #008000; text-decoration-color: #008000\">\"\"</span><span style=\"font-weight: bold\">}}]</span>,<span style=\"color: #008000; text-decoration-color: #008000\">\"message\"</span>:<span style=\"color: #008000; text-decoration-color: #008000\">\"</span>\n",
       "<span style=\"color: #008000; text-decoration-color: #008000\">Logs created\"</span><span style=\"font-weight: bold\">}</span>\n",
       "</pre>\n"
      ],
      "text/plain": [
       "\u001b[1m{\u001b[0m\u001b[32m\"status\"\u001b[0m:\u001b[1;36m200\u001b[0m,\u001b[32m\"data\"\u001b[0m:\u001b[1m[\u001b[0m\u001b[1m{\u001b[0m\u001b[32m\"key\"\u001b[0m:\u001b[32m\"predict\"\u001b[0m,\u001b[32m\"data\"\u001b[0m:\u001b[32m\"predict.py\"\u001b[0m,\u001b[32m\"model_version\"\u001b[0m:\u001b[1m{\u001b[0m\u001b[32m\"uuid\"\u001b[0m:\u001b[32m\"6cc5d24a-8716-4d4f-a106-aceea6a\u001b[0m\n",
       "\u001b[32m28967\"\u001b[0m,\u001b[32m\"version\"\u001b[0m:\u001b[32m\"v1\"\u001b[0m\u001b[1m}\u001b[0m,\u001b[32m\"dataset_version\"\u001b[0m:\u001b[1m{\u001b[0m\u001b[32m\"uuid\"\u001b[0m:\u001b[32m\"00000000-0000-0000-0000-000000000000\"\u001b[0m,\u001b[32m\"version\"\u001b[0m:\u001b[32m\"\"\u001b[0m\u001b[1m}\u001b[0m\u001b[1m}\u001b[0m\u001b[1m]\u001b[0m,\u001b[32m\"message\"\u001b[0m:\u001b[32m\"\u001b[0m\n",
       "\u001b[32mLogs created\"\u001b[0m\u001b[1m}\u001b[0m\n"
      ]
     },
     "metadata": {},
     "output_type": "display_data"
    }
   ],
   "source": [
    "pureml.predict.add(label ='credit_example_test_pypi2:main:v1',paths={'predict':'predict.py'})"
   ]
  },
  {
   "cell_type": "code",
   "execution_count": 12,
   "metadata": {},
   "outputs": [
    {
     "data": {
      "text/html": [
       "<pre style=\"white-space:pre;overflow-x:auto;line-height:normal;font-family:Menlo,'DejaVu Sans Mono',consolas,'Courier New',monospace\"><span style=\"color: #008000; text-decoration-color: #008000; font-weight: bold\"> predict file predict.py has been fetched</span>\n",
       "</pre>\n"
      ],
      "text/plain": [
       "\u001b[1;32m predict file predict.py has been fetched\u001b[0m\n"
      ]
     },
     "metadata": {},
     "output_type": "display_data"
    }
   ],
   "source": [
    "import pureml\n",
    "\n",
    "pureml.predict.fetch(label='credit_example_test_pypi2:main:v1')"
   ]
  },
  {
   "cell_type": "code",
   "execution_count": 13,
   "metadata": {},
   "outputs": [],
   "source": [
    "faircredit = {'accuracy': 0.7,\n",
    "    'precision' : 0.8,\n",
    "    'recall'  : 0.8,\n",
    "    'f1' : 0.7,\n",
    "    'balanced_accuracy' : 0.8,\n",
    "    'balanced_acc_error': 0.7}"
   ]
  },
  {
   "cell_type": "code",
   "execution_count": 15,
   "metadata": {},
   "outputs": [
    {
     "data": {
      "text/html": [
       "<pre style=\"white-space:pre;overflow-x:auto;line-height:normal;font-family:Menlo,'DejaVu Sans Mono',consolas,'Courier New',monospace\"><span style=\"color: #008000; text-decoration-color: #008000; font-weight: bold\"> Succesfully fetched the dataset</span>\n",
       "</pre>\n"
      ],
      "text/plain": [
       "\u001b[1;32m Succesfully fetched the dataset\u001b[0m\n"
      ]
     },
     "metadata": {},
     "output_type": "display_data"
    },
    {
     "data": {
      "text/html": [
       "<pre style=\"white-space:pre;overflow-x:auto;line-height:normal;font-family:Menlo,'DejaVu Sans Mono',consolas,'Courier New',monospace\"><span style=\"color: #008000; text-decoration-color: #008000; font-weight: bold\"> Succesfully fetched the predictor</span>\n",
       "</pre>\n"
      ],
      "text/plain": [
       "\u001b[1;32m Succesfully fetched the predictor\u001b[0m\n"
      ]
     },
     "metadata": {},
     "output_type": "display_data"
    },
    {
     "data": {
      "text/html": [
       "<pre style=\"white-space:pre;overflow-x:auto;line-height:normal;font-family:Menlo,'DejaVu Sans Mono',consolas,'Courier New',monospace\"><span style=\"color: #008000; text-decoration-color: #008000; font-weight: bold\"> Succesfully fetched the model</span>\n",
       "</pre>\n"
      ],
      "text/plain": [
       "\u001b[1;32m Succesfully fetched the model\u001b[0m\n"
      ]
     },
     "metadata": {},
     "output_type": "display_data"
    },
    {
     "data": {
      "text/html": [
       "<pre style=\"white-space:pre;overflow-x:auto;line-height:normal;font-family:Menlo,'DejaVu Sans Mono',consolas,'Courier New',monospace\">Dataset Keys: <span style=\"color: #800080; text-decoration-color: #800080; font-weight: bold\">dict_keys</span><span style=\"font-weight: bold\">([</span><span style=\"color: #008000; text-decoration-color: #008000\">'x_train'</span>, <span style=\"color: #008000; text-decoration-color: #008000\">'y_train'</span>, <span style=\"color: #008000; text-decoration-color: #008000\">'x_test'</span>, <span style=\"color: #008000; text-decoration-color: #008000\">'y_test'</span>, <span style=\"color: #008000; text-decoration-color: #008000\">'sensitive_features'</span><span style=\"font-weight: bold\">])</span>\n",
       "</pre>\n"
      ],
      "text/plain": [
       "Dataset Keys: \u001b[1;35mdict_keys\u001b[0m\u001b[1m(\u001b[0m\u001b[1m[\u001b[0m\u001b[32m'x_train'\u001b[0m, \u001b[32m'y_train'\u001b[0m, \u001b[32m'x_test'\u001b[0m, \u001b[32m'y_test'\u001b[0m, \u001b[32m'sensitive_features'\u001b[0m\u001b[1m]\u001b[0m\u001b[1m)\u001b[0m\n"
      ]
     },
     "metadata": {},
     "output_type": "display_data"
    },
    {
     "data": {
      "text/html": [
       "<pre style=\"white-space:pre;overflow-x:auto;line-height:normal;font-family:Menlo,'DejaVu Sans Mono',consolas,'Courier New',monospace\">Data in sensitive_features: <span style=\"font-weight: bold\">[</span><span style=\"color: #008080; text-decoration-color: #008080; font-weight: bold\">1</span> <span style=\"color: #008080; text-decoration-color: #008080; font-weight: bold\">1</span> <span style=\"color: #008080; text-decoration-color: #008080; font-weight: bold\">2</span> <span style=\"color: #808000; text-decoration-color: #808000\">...</span> <span style=\"color: #008080; text-decoration-color: #008080; font-weight: bold\">2</span> <span style=\"color: #008080; text-decoration-color: #008080; font-weight: bold\">2</span> <span style=\"color: #008080; text-decoration-color: #008080; font-weight: bold\">1</span><span style=\"font-weight: bold\">]</span>\n",
       "</pre>\n"
      ],
      "text/plain": [
       "Data in sensitive_features: \u001b[1m[\u001b[0m\u001b[1;36m1\u001b[0m \u001b[1;36m1\u001b[0m \u001b[1;36m2\u001b[0m \u001b[33m...\u001b[0m \u001b[1;36m2\u001b[0m \u001b[1;36m2\u001b[0m \u001b[1;36m1\u001b[0m\u001b[1m]\u001b[0m\n"
      ]
     },
     "metadata": {},
     "output_type": "display_data"
    },
    {
     "name": "stdout",
     "output_type": "stream",
     "text": [
      "'balanced_accuracy'\n",
      "argument of type 'NoneType' is not iterable\n",
      "'balanced_acc_error'\n",
      "argument of type 'NoneType' is not iterable\n"
     ]
    },
    {
     "data": {
      "text/html": [
       "<pre style=\"white-space:pre;overflow-x:auto;line-height:normal;font-family:Menlo,'DejaVu Sans Mono',consolas,'Courier New',monospace\">Dataset Keys: <span style=\"color: #800080; text-decoration-color: #800080; font-weight: bold\">dict_keys</span><span style=\"font-weight: bold\">([</span><span style=\"color: #008000; text-decoration-color: #008000\">'x_train'</span>, <span style=\"color: #008000; text-decoration-color: #008000\">'y_train'</span>, <span style=\"color: #008000; text-decoration-color: #008000\">'x_test'</span>, <span style=\"color: #008000; text-decoration-color: #008000\">'y_test'</span>, <span style=\"color: #008000; text-decoration-color: #008000\">'sensitive_features'</span><span style=\"font-weight: bold\">])</span>\n",
       "</pre>\n"
      ],
      "text/plain": [
       "Dataset Keys: \u001b[1;35mdict_keys\u001b[0m\u001b[1m(\u001b[0m\u001b[1m[\u001b[0m\u001b[32m'x_train'\u001b[0m, \u001b[32m'y_train'\u001b[0m, \u001b[32m'x_test'\u001b[0m, \u001b[32m'y_test'\u001b[0m, \u001b[32m'sensitive_features'\u001b[0m\u001b[1m]\u001b[0m\u001b[1m)\u001b[0m\n"
      ]
     },
     "metadata": {},
     "output_type": "display_data"
    },
    {
     "data": {
      "text/html": [
       "<pre style=\"white-space:pre;overflow-x:auto;line-height:normal;font-family:Menlo,'DejaVu Sans Mono',consolas,'Courier New',monospace\">Data in sensitive_features: <span style=\"font-weight: bold\">[</span><span style=\"color: #008080; text-decoration-color: #008080; font-weight: bold\">1</span> <span style=\"color: #008080; text-decoration-color: #008080; font-weight: bold\">1</span> <span style=\"color: #008080; text-decoration-color: #008080; font-weight: bold\">2</span> <span style=\"color: #808000; text-decoration-color: #808000\">...</span> <span style=\"color: #008080; text-decoration-color: #008080; font-weight: bold\">2</span> <span style=\"color: #008080; text-decoration-color: #008080; font-weight: bold\">2</span> <span style=\"color: #008080; text-decoration-color: #008080; font-weight: bold\">1</span><span style=\"font-weight: bold\">]</span>\n",
       "</pre>\n"
      ],
      "text/plain": [
       "Data in sensitive_features: \u001b[1m[\u001b[0m\u001b[1;36m1\u001b[0m \u001b[1;36m1\u001b[0m \u001b[1;36m2\u001b[0m \u001b[33m...\u001b[0m \u001b[1;36m2\u001b[0m \u001b[1;36m2\u001b[0m \u001b[1;36m1\u001b[0m\u001b[1m]\u001b[0m\n"
      ]
     },
     "metadata": {},
     "output_type": "display_data"
    },
    {
     "name": "stdout",
     "output_type": "stream",
     "text": [
      "'balanced_accuracy'\n",
      "argument of type 'NoneType' is not iterable\n",
      "'balanced_acc_error'\n",
      "argument of type 'NoneType' is not iterable\n"
     ]
    },
    {
     "data": {
      "text/html": [
       "<pre style=\"white-space:pre;overflow-x:auto;line-height:normal;font-family:Menlo,'DejaVu Sans Mono',consolas,'Courier New',monospace\">Dataset Keys: <span style=\"color: #800080; text-decoration-color: #800080; font-weight: bold\">dict_keys</span><span style=\"font-weight: bold\">([</span><span style=\"color: #008000; text-decoration-color: #008000\">'x_train'</span>, <span style=\"color: #008000; text-decoration-color: #008000\">'y_train'</span>, <span style=\"color: #008000; text-decoration-color: #008000\">'x_test'</span>, <span style=\"color: #008000; text-decoration-color: #008000\">'y_test'</span>, <span style=\"color: #008000; text-decoration-color: #008000\">'sensitive_features'</span><span style=\"font-weight: bold\">])</span>\n",
       "</pre>\n"
      ],
      "text/plain": [
       "Dataset Keys: \u001b[1;35mdict_keys\u001b[0m\u001b[1m(\u001b[0m\u001b[1m[\u001b[0m\u001b[32m'x_train'\u001b[0m, \u001b[32m'y_train'\u001b[0m, \u001b[32m'x_test'\u001b[0m, \u001b[32m'y_test'\u001b[0m, \u001b[32m'sensitive_features'\u001b[0m\u001b[1m]\u001b[0m\u001b[1m)\u001b[0m\n"
      ]
     },
     "metadata": {},
     "output_type": "display_data"
    },
    {
     "data": {
      "text/html": [
       "<pre style=\"white-space:pre;overflow-x:auto;line-height:normal;font-family:Menlo,'DejaVu Sans Mono',consolas,'Courier New',monospace\">Data in sensitive_features: <span style=\"font-weight: bold\">[</span><span style=\"color: #008080; text-decoration-color: #008080; font-weight: bold\">1</span> <span style=\"color: #008080; text-decoration-color: #008080; font-weight: bold\">1</span> <span style=\"color: #008080; text-decoration-color: #008080; font-weight: bold\">2</span> <span style=\"color: #808000; text-decoration-color: #808000\">...</span> <span style=\"color: #008080; text-decoration-color: #008080; font-weight: bold\">2</span> <span style=\"color: #008080; text-decoration-color: #008080; font-weight: bold\">2</span> <span style=\"color: #008080; text-decoration-color: #008080; font-weight: bold\">1</span><span style=\"font-weight: bold\">]</span>\n",
       "</pre>\n"
      ],
      "text/plain": [
       "Data in sensitive_features: \u001b[1m[\u001b[0m\u001b[1;36m1\u001b[0m \u001b[1;36m1\u001b[0m \u001b[1;36m2\u001b[0m \u001b[33m...\u001b[0m \u001b[1;36m2\u001b[0m \u001b[1;36m2\u001b[0m \u001b[1;36m1\u001b[0m\u001b[1m]\u001b[0m\n"
      ]
     },
     "metadata": {},
     "output_type": "display_data"
    },
    {
     "name": "stdout",
     "output_type": "stream",
     "text": [
      "'balanced_accuracy'\n",
      "argument of type 'NoneType' is not iterable\n",
      "'balanced_acc_error'\n",
      "argument of type 'NoneType' is not iterable\n"
     ]
    },
    {
     "data": {
      "image/png": "[encoded data removed]",
      "text/plain": [
       "<Figure size 640x480 with 1 Axes>"
      ]
     },
     "metadata": {},
     "output_type": "display_data"
    }
   ],
   "source": [
    "from pureml_policy import policy_eval\n",
    "policy = faircredit\n",
    "results = policy_eval.eval(policy  = policy,\n",
    "            label_model='credit_example_test_pypi2:main:v1',\n",
    "            label_dataset='credit_dataset_test_pypi2:main:v1')"
   ]
  },
  {
   "cell_type": "markdown",
   "metadata": {},
   "source": [
    "Balanced Accuracy is a metric used to evaluate the performance of binary and multiclass classification models. It is particularly useful when dealing with imbalanced datasets where the classes are not equally represented.\n",
    "Definition\n",
    "Balanced accuracy is defined as the average of the proportion of actual positive instances that are correctly identified by the model (True Positive Rate or Sensitivity) and the proportion of actual negative instances that are correctly identified by the model (True Negative Rate or Specificity). Mathematically, it is represented as:\n",
    "\n",
    "                Balanced Accuracy =  (Sensitivity + Specificity)/2\n",
    "\n",
    "Importance in Fairness Models in Banks\n",
    "When banks use predictive models, such as credit scoring models, fairness is crucial to ensure that all groups of people are treated equitably. In such models, balanced accuracy becomes essential due to the following reasons:\n",
    "\n",
    "1. Handling Imbalanced Datasets:\n",
    "In banking, the number of people who default on loans (negative class) is generally much lower than the number who do not default (positive class). Balanced accuracy helps ensure that the model’s performance is evaluated effectively across both classes.\n",
    "\n",
    "2. Ensuring Fairness:\n",
    "Balanced accuracy helps in assessing the model's performance across different demographic groups, ensuring that the model is not biased towards any particular group. It helps in identifying and mitigating any discrimination in the model’s predictions.\n",
    "\n",
    "3. Regulatory Compliance:\n",
    "Banks operate under stringent regulations to ensure fairness and non-discrimination in lending practices. Using balanced accuracy as a metric helps banks in demonstrating that their models are fair and compliant with regulations such as the Equal Credit Opportunity Act (ECOA).\n",
    "\n",
    "4. Customer Trust:\n",
    "A model that is fair and has a high balanced accuracy is more likely to gain customer trust, as it ensures that all customers, regardless of their background, are evaluated equitably for creditworthiness.\n",
    "\n",
    "5. Comprehensive Evaluation:\n",
    "Balanced accuracy allows for a more comprehensive evaluation of the model’s performance by considering both Type I and Type II errors, helping banks to make more informed and fair credit decisions.\n",
    "Conclusion\n",
    "Balanced accuracy is a valuable metric for banks to ensure that their predictive models, like those used in credit scoring, are fair, equitable, and free from biases against any particular group of customers. It helps in achieving a balance in model performance across various demographic groups, leading to more ethical and responsible lending practices."
   ]
  },
  {
   "cell_type": "code",
   "execution_count": 17,
   "metadata": {},
   "outputs": [
    {
     "data": {
      "text/plain": [
       "{'model': 'credit_example_test_pypi2:main',\n",
       " 'version': 'v1',\n",
       " 'result': [{'complete': {'complete': {'operational': {'accuracy': 'fail',\n",
       "      'precision': 'fail',\n",
       "      'recall': 'pass',\n",
       "      'f1': 'pass'},\n",
       "     'fairness': {'balanced_accuracy': 'fail', 'balanced_acc_error': 'pass'},\n",
       "     'operational_scores': {'accuracy': '0.7964761904761904',\n",
       "      'precision': '0.8110202324580285',\n",
       "      'recall': '0.525963149078727',\n",
       "      'f1': '0.6381033022861982'},\n",
       "     'fairness_scores': {'balanced_accuracy': '0.8016823065188516',\n",
       "      'balanced_acc_error': '0.009093399225773232'},\n",
       "     'operational_thresholds': {'accuracy': '0.7',\n",
       "      'precision': '0.8',\n",
       "      'recall': '0.8',\n",
       "      'f1': '0.7'},\n",
       "     'fairness_thresholds': {'balanced_accuracy': '0.8',\n",
       "      'balanced_acc_error': '0.7'}}},\n",
       "   'subsets': {1: {'operational': {'accuracy': 'fail',\n",
       "      'precision': 'fail',\n",
       "      'recall': 'pass',\n",
       "      'f1': 'fail'},\n",
       "     'fairness': {'balanced_accuracy': 'fail', 'balanced_acc_error': 'pass'},\n",
       "     'operational_scores': {'accuracy': '0.8690647482014389',\n",
       "      'precision': '0.8757700205338809',\n",
       "      'recall': '0.6674491392801252',\n",
       "      'f1': '0.7575488454706927'},\n",
       "     'fairness_scores': {'balanced_accuracy': '0.8713956485648128',\n",
       "      'balanced_acc_error': '0.011913189792152125'},\n",
       "     'operational_thresholds': {'accuracy': '0.7',\n",
       "      'precision': '0.8',\n",
       "      'recall': '0.8',\n",
       "      'f1': '0.7'},\n",
       "     'fairness_thresholds': {'balanced_accuracy': '0.8',\n",
       "      'balanced_acc_error': '0.7'}},\n",
       "    2: {'operational': {'accuracy': 'fail',\n",
       "      'precision': 'pass',\n",
       "      'recall': 'pass',\n",
       "      'f1': 'pass'},\n",
       "     'fairness': {'balanced_accuracy': 'pass', 'balanced_acc_error': 'pass'},\n",
       "     'operational_scores': {'accuracy': '0.7486571879936809',\n",
       "      'precision': '0.7642698295033358',\n",
       "      'recall': '0.4474826388888889',\n",
       "      'f1': '0.5644675609088421'},\n",
       "     'fairness_scores': {'balanced_accuracy': '0.7543493295278172',\n",
       "      'balanced_acc_error': '0.012843157543219253'},\n",
       "     'operational_thresholds': {'accuracy': '0.7',\n",
       "      'precision': '0.8',\n",
       "      'recall': '0.8',\n",
       "      'f1': '0.7'},\n",
       "     'fairness_thresholds': {'balanced_accuracy': '0.8',\n",
       "      'balanced_acc_error': '0.7'}}}}]}"
      ]
     },
     "execution_count": 17,
     "metadata": {},
     "output_type": "execute_result"
    }
   ],
   "source": [
    "results"
   ]
  },
  {
   "cell_type": "code",
   "execution_count": 19,
   "metadata": {},
   "outputs": [
    {
     "data": {
      "text/plain": [
       "{'complete': {'operational': {'accuracy': 'fail',\n",
       "   'precision': 'fail',\n",
       "   'recall': 'pass',\n",
       "   'f1': 'pass'},\n",
       "  'fairness': {'balanced_accuracy': 'fail', 'balanced_acc_error': 'pass'},\n",
       "  'operational_scores': {'accuracy': '0.7964761904761904',\n",
       "   'precision': '0.8110202324580285',\n",
       "   'recall': '0.525963149078727',\n",
       "   'f1': '0.6381033022861982'},\n",
       "  'fairness_scores': {'balanced_accuracy': '0.8016823065188516',\n",
       "   'balanced_acc_error': '0.009093399225773232'},\n",
       "  'operational_thresholds': {'accuracy': '0.7',\n",
       "   'precision': '0.8',\n",
       "   'recall': '0.8',\n",
       "   'f1': '0.7'},\n",
       "  'fairness_thresholds': {'balanced_accuracy': '0.8',\n",
       "   'balanced_acc_error': '0.7'}}}"
      ]
     },
     "execution_count": 19,
     "metadata": {},
     "output_type": "execute_result"
    }
   ],
   "source": [
    "results['result'][0]['complete']"
   ]
  },
  {
   "cell_type": "code",
   "execution_count": 21,
   "metadata": {},
   "outputs": [
    {
     "data": {
      "text/plain": [
       "{'operational': {'accuracy': 'fail',\n",
       "  'precision': 'fail',\n",
       "  'recall': 'pass',\n",
       "  'f1': 'fail'},\n",
       " 'fairness': {'balanced_accuracy': 'fail', 'balanced_acc_error': 'pass'},\n",
       " 'operational_scores': {'accuracy': '0.8690647482014389',\n",
       "  'precision': '0.8757700205338809',\n",
       "  'recall': '0.6674491392801252',\n",
       "  'f1': '0.7575488454706927'},\n",
       " 'fairness_scores': {'balanced_accuracy': '0.8713956485648128',\n",
       "  'balanced_acc_error': '0.011913189792152125'},\n",
       " 'operational_thresholds': {'accuracy': '0.7',\n",
       "  'precision': '0.8',\n",
       "  'recall': '0.8',\n",
       "  'f1': '0.7'},\n",
       " 'fairness_thresholds': {'balanced_accuracy': '0.8',\n",
       "  'balanced_acc_error': '0.7'}}"
      ]
     },
     "execution_count": 21,
     "metadata": {},
     "output_type": "execute_result"
    }
   ],
   "source": [
    "results['result'][0]['subsets'][1]"
   ]
  },
  {
   "cell_type": "code",
   "execution_count": 22,
   "metadata": {},
   "outputs": [
    {
     "data": {
      "text/plain": [
       "{'operational': {'accuracy': 'fail',\n",
       "  'precision': 'pass',\n",
       "  'recall': 'pass',\n",
       "  'f1': 'pass'},\n",
       " 'fairness': {'balanced_accuracy': 'pass', 'balanced_acc_error': 'pass'},\n",
       " 'operational_scores': {'accuracy': '0.7486571879936809',\n",
       "  'precision': '0.7642698295033358',\n",
       "  'recall': '0.4474826388888889',\n",
       "  'f1': '0.5644675609088421'},\n",
       " 'fairness_scores': {'balanced_accuracy': '0.7543493295278172',\n",
       "  'balanced_acc_error': '0.012843157543219253'},\n",
       " 'operational_thresholds': {'accuracy': '0.7',\n",
       "  'precision': '0.8',\n",
       "  'recall': '0.8',\n",
       "  'f1': '0.7'},\n",
       " 'fairness_thresholds': {'balanced_accuracy': '0.8',\n",
       "  'balanced_acc_error': '0.7'}}"
      ]
     },
     "execution_count": 22,
     "metadata": {},
     "output_type": "execute_result"
    }
   ],
   "source": [
    "results['result'][0]['subsets'][2]"
   ]
  },
  {
   "cell_type": "code",
   "execution_count": null,
   "metadata": {},
   "outputs": [],
   "source": []
  }
 ],
 "metadata": {
  "kernelspec": {
   "display_name": "test-pypi2",
   "language": "python",
   "name": "python3"
  },
  "language_info": {
   "codemirror_mode": {
    "name": "ipython",
    "version": 3
   },
   "file_extension": ".py",
   "mimetype": "text/x-python",
   "name": "python",
   "nbconvert_exporter": "python",
   "pygments_lexer": "ipython3",
   "version": "3.10.12"
  },
  "orig_nbformat": 4
 },
 "nbformat": 4,
 "nbformat_minor": 2
}
